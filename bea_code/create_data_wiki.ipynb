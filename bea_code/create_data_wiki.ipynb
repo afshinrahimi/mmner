{
 "cells": [
  {
   "cell_type": "code",
   "execution_count": 1,
   "metadata": {},
   "outputs": [],
   "source": [
    "from sklearn.preprocessing import LabelEncoder\n",
    "languages = ['af', 'ar', 'bg', 'bn', 'bs', 'ca', 'cs', 'da', 'de', 'el', 'en', 'es', 'et', 'fa', 'fi', 'fr', 'he', 'hi',\n",
    "             'hr', 'hu', 'id', 'it', 'lt', 'lv', 'mk', 'ms', 'nl', 'no', 'pl', 'pt', 'ro', 'ru', 'sk', 'sl', 'sq', 'sv',\n",
    "             'ta', 'tl', 'tr', 'uk', 'vi']\n",
    "partitions = ['train', 'dev', 'test']\n",
    "label_le = LabelEncoder().fit(['B-LOC', 'B-ORG', 'B-PER', 'I-LOC', 'I-ORG', 'I-PER', 'O'])"
   ]
  },
  {
   "cell_type": "code",
   "execution_count": 2,
   "metadata": {},
   "outputs": [],
   "source": [
    "import tarfile\n",
    "import pandas as pd\n",
    "\n",
    "def get_df_dict(tarfile_path):\n",
    "    df_dict = {}\n",
    "    tar = tarfile.open(tarfile_path)\n",
    "    for member in tar.getmembers():\n",
    "        f = tar.extractfile(member)\n",
    "        df_dict[member.name] = pd.read_csv(f, sep='\\t', header=None, names=['sent_idx', 'word_idx', \n",
    "                                                                            'word_id', 'label_id', 'label', 'word'])\n",
    "    return df_dict"
   ]
  },
  {
   "cell_type": "code",
   "execution_count": 3,
   "metadata": {},
   "outputs": [],
   "source": [
    "import os\n",
    "\n",
    "data_path = './raw_data_wiki/'\n",
    "output_path = './data_wiki/'\n",
    "if not os.path.exists(output_path):\n",
    "    os.mkdir(output_path)\n",
    "\n",
    "for target in ['af']: # we only create data for 'af', otherwise the list should be 'languages'\n",
    "    df_dict = get_df_dict(data_path + target + '.tar.gz')\n",
    "\n",
    "    for partition in partitions:\n",
    "        df_truth = df_dict[target + '_' + partition][['sent_idx', 'word_idx', 'word', 'word_id', 'label']]\n",
    "        df_truth.columns = ['sent_idx', 'word_idx', 'word', 'word_id', 'truth']\n",
    "\n",
    "        df_label = pd.DataFrame({source : label_le.transform(df_dict[target + '_' + source + '_' + partition]['label'])\n",
    "                                 for source in languages if source != target})\n",
    "        \n",
    "        output_path_local = output_path + target + '_' + partition\n",
    "        if not os.path.exists(output_path_local):\n",
    "            os.mkdir(output_path_local)\n",
    "\n",
    "        df_truth.to_csv(output_path_local + '/' + 'truth.csv', index=None)\n",
    "        df_label.to_csv(output_path_local + '/' + 'label.csv', index=None)"
   ]
  }
 ],
 "metadata": {
  "kernelspec": {
   "display_name": "Python 3",
   "language": "python",
   "name": "python3"
  },
  "language_info": {
   "codemirror_mode": {
    "name": "ipython",
    "version": 3
   },
   "file_extension": ".py",
   "mimetype": "text/x-python",
   "name": "python",
   "nbconvert_exporter": "python",
   "pygments_lexer": "ipython3",
   "version": "3.7.0"
  }
 },
 "nbformat": 4,
 "nbformat_minor": 2
}
